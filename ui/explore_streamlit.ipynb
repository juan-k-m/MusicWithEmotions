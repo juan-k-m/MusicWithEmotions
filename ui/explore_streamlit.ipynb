{
 "cells": [
  {
   "cell_type": "code",
   "execution_count": 1,
   "id": "8e9b80ad-d626-4a1e-a6e3-c4b17c947b4b",
   "metadata": {},
   "outputs": [
    {
     "name": "stdout",
     "output_type": "stream",
     "text": [
      "Requirement already satisfied: streamlit in /home/danja/.pyenv/versions/3.8.6/envs/lewagon/envs/MusicWithEmotions/lib/python3.8/site-packages (0.82.0)\n",
      "Requirement already satisfied: pillow>=6.2.0 in /home/danja/.pyenv/versions/3.8.6/envs/lewagon/envs/MusicWithEmotions/lib/python3.8/site-packages (from streamlit) (8.2.0)\n",
      "Requirement already satisfied: pyarrow in /home/danja/.pyenv/versions/3.8.6/envs/lewagon/envs/MusicWithEmotions/lib/python3.8/site-packages (from streamlit) (4.0.1)\n",
      "Requirement already satisfied: validators in /home/danja/.pyenv/versions/3.8.6/envs/lewagon/envs/MusicWithEmotions/lib/python3.8/site-packages (from streamlit) (0.18.2)\n",
      "Requirement already satisfied: base58 in /home/danja/.pyenv/versions/3.8.6/envs/lewagon/envs/MusicWithEmotions/lib/python3.8/site-packages (from streamlit) (2.1.0)\n",
      "Requirement already satisfied: numpy in /home/danja/.pyenv/versions/3.8.6/envs/lewagon/envs/MusicWithEmotions/lib/python3.8/site-packages (from streamlit) (1.20.3)\n",
      "Requirement already satisfied: pandas>=0.21.0 in /home/danja/.pyenv/versions/3.8.6/envs/lewagon/envs/MusicWithEmotions/lib/python3.8/site-packages (from streamlit) (1.2.4)\n",
      "Requirement already satisfied: gitpython in /home/danja/.pyenv/versions/3.8.6/envs/lewagon/envs/MusicWithEmotions/lib/python3.8/site-packages (from streamlit) (3.1.17)\n",
      "Requirement already satisfied: pydeck>=0.1.dev5 in /home/danja/.pyenv/versions/3.8.6/envs/lewagon/envs/MusicWithEmotions/lib/python3.8/site-packages (from streamlit) (0.6.2)\n",
      "Requirement already satisfied: blinker in /home/danja/.pyenv/versions/3.8.6/envs/lewagon/envs/MusicWithEmotions/lib/python3.8/site-packages (from streamlit) (1.4)\n",
      "Requirement already satisfied: python-dateutil in /home/danja/.pyenv/versions/3.8.6/envs/lewagon/envs/MusicWithEmotions/lib/python3.8/site-packages (from streamlit) (2.8.1)\n",
      "Requirement already satisfied: altair>=3.2.0 in /home/danja/.pyenv/versions/3.8.6/envs/lewagon/envs/MusicWithEmotions/lib/python3.8/site-packages (from streamlit) (4.1.0)\n",
      "Requirement already satisfied: tornado>=5.0 in /home/danja/.pyenv/versions/3.8.6/envs/lewagon/envs/MusicWithEmotions/lib/python3.8/site-packages (from streamlit) (6.1)\n",
      "Requirement already satisfied: requests in /home/danja/.pyenv/versions/3.8.6/envs/lewagon/envs/MusicWithEmotions/lib/python3.8/site-packages (from streamlit) (2.25.1)\n",
      "Requirement already satisfied: cachetools>=4.0 in /home/danja/.pyenv/versions/3.8.6/envs/lewagon/envs/MusicWithEmotions/lib/python3.8/site-packages (from streamlit) (4.2.2)\n",
      "Requirement already satisfied: click<8.0,>=7.0 in /home/danja/.pyenv/versions/3.8.6/envs/lewagon/envs/MusicWithEmotions/lib/python3.8/site-packages (from streamlit) (7.1.2)\n",
      "Requirement already satisfied: toml in /home/danja/.pyenv/versions/3.8.6/envs/lewagon/envs/MusicWithEmotions/lib/python3.8/site-packages (from streamlit) (0.10.2)\n",
      "Requirement already satisfied: astor in /home/danja/.pyenv/versions/3.8.6/envs/lewagon/envs/MusicWithEmotions/lib/python3.8/site-packages (from streamlit) (0.8.1)\n",
      "Requirement already satisfied: packaging in /home/danja/.pyenv/versions/3.8.6/envs/lewagon/envs/MusicWithEmotions/lib/python3.8/site-packages (from streamlit) (20.9)\n",
      "Requirement already satisfied: watchdog in /home/danja/.pyenv/versions/3.8.6/envs/lewagon/envs/MusicWithEmotions/lib/python3.8/site-packages (from streamlit) (2.1.2)\n",
      "Requirement already satisfied: protobuf!=3.11,>=3.6.0 in /home/danja/.pyenv/versions/3.8.6/envs/lewagon/envs/MusicWithEmotions/lib/python3.8/site-packages (from streamlit) (3.17.1)\n",
      "Requirement already satisfied: tzlocal in /home/danja/.pyenv/versions/3.8.6/envs/lewagon/envs/MusicWithEmotions/lib/python3.8/site-packages (from streamlit) (2.1)\n",
      "Requirement already satisfied: jinja2 in /home/danja/.pyenv/versions/3.8.6/envs/lewagon/envs/MusicWithEmotions/lib/python3.8/site-packages (from altair>=3.2.0->streamlit) (3.0.1)\n",
      "Requirement already satisfied: entrypoints in /home/danja/.pyenv/versions/3.8.6/envs/lewagon/envs/MusicWithEmotions/lib/python3.8/site-packages (from altair>=3.2.0->streamlit) (0.3)\n",
      "Requirement already satisfied: toolz in /home/danja/.pyenv/versions/3.8.6/envs/lewagon/envs/MusicWithEmotions/lib/python3.8/site-packages (from altair>=3.2.0->streamlit) (0.11.1)\n",
      "Requirement already satisfied: jsonschema in /home/danja/.pyenv/versions/3.8.6/envs/lewagon/envs/MusicWithEmotions/lib/python3.8/site-packages (from altair>=3.2.0->streamlit) (3.2.0)\n",
      "Requirement already satisfied: pytz>=2017.3 in /home/danja/.pyenv/versions/3.8.6/envs/lewagon/envs/MusicWithEmotions/lib/python3.8/site-packages (from pandas>=0.21.0->streamlit) (2021.1)\n",
      "Requirement already satisfied: six>=1.9 in /home/danja/.pyenv/versions/3.8.6/envs/lewagon/envs/MusicWithEmotions/lib/python3.8/site-packages (from protobuf!=3.11,>=3.6.0->streamlit) (1.16.0)\n",
      "Requirement already satisfied: ipykernel>=5.1.2 in /home/danja/.pyenv/versions/3.8.6/envs/lewagon/envs/MusicWithEmotions/lib/python3.8/site-packages (from pydeck>=0.1.dev5->streamlit) (5.5.5)\n",
      "Requirement already satisfied: ipywidgets>=7.0.0 in /home/danja/.pyenv/versions/3.8.6/envs/lewagon/envs/MusicWithEmotions/lib/python3.8/site-packages (from pydeck>=0.1.dev5->streamlit) (7.6.3)\n",
      "Requirement already satisfied: traitlets>=4.3.2 in /home/danja/.pyenv/versions/3.8.6/envs/lewagon/envs/MusicWithEmotions/lib/python3.8/site-packages (from pydeck>=0.1.dev5->streamlit) (5.0.5)\n",
      "Requirement already satisfied: jupyter-client in /home/danja/.pyenv/versions/3.8.6/envs/lewagon/envs/MusicWithEmotions/lib/python3.8/site-packages (from ipykernel>=5.1.2->pydeck>=0.1.dev5->streamlit) (6.1.12)\n",
      "Requirement already satisfied: ipython>=5.0.0 in /home/danja/.pyenv/versions/3.8.6/envs/lewagon/envs/MusicWithEmotions/lib/python3.8/site-packages (from ipykernel>=5.1.2->pydeck>=0.1.dev5->streamlit) (7.24.0)\n",
      "Requirement already satisfied: backcall in /home/danja/.pyenv/versions/3.8.6/envs/lewagon/envs/MusicWithEmotions/lib/python3.8/site-packages (from ipython>=5.0.0->ipykernel>=5.1.2->pydeck>=0.1.dev5->streamlit) (0.2.0)\n",
      "Requirement already satisfied: setuptools>=18.5 in /home/danja/.pyenv/versions/3.8.6/envs/lewagon/envs/MusicWithEmotions/lib/python3.8/site-packages (from ipython>=5.0.0->ipykernel>=5.1.2->pydeck>=0.1.dev5->streamlit) (49.2.1)\n",
      "Requirement already satisfied: pickleshare in /home/danja/.pyenv/versions/3.8.6/envs/lewagon/envs/MusicWithEmotions/lib/python3.8/site-packages (from ipython>=5.0.0->ipykernel>=5.1.2->pydeck>=0.1.dev5->streamlit) (0.7.5)\n",
      "Requirement already satisfied: matplotlib-inline in /home/danja/.pyenv/versions/3.8.6/envs/lewagon/envs/MusicWithEmotions/lib/python3.8/site-packages (from ipython>=5.0.0->ipykernel>=5.1.2->pydeck>=0.1.dev5->streamlit) (0.1.2)\n",
      "Requirement already satisfied: decorator in /home/danja/.pyenv/versions/3.8.6/envs/lewagon/envs/MusicWithEmotions/lib/python3.8/site-packages (from ipython>=5.0.0->ipykernel>=5.1.2->pydeck>=0.1.dev5->streamlit) (5.0.9)\n",
      "Requirement already satisfied: jedi>=0.16 in /home/danja/.pyenv/versions/3.8.6/envs/lewagon/envs/MusicWithEmotions/lib/python3.8/site-packages (from ipython>=5.0.0->ipykernel>=5.1.2->pydeck>=0.1.dev5->streamlit) (0.18.0)\n",
      "Requirement already satisfied: pygments in /home/danja/.pyenv/versions/3.8.6/envs/lewagon/envs/MusicWithEmotions/lib/python3.8/site-packages (from ipython>=5.0.0->ipykernel>=5.1.2->pydeck>=0.1.dev5->streamlit) (2.9.0)\n",
      "Requirement already satisfied: prompt-toolkit!=3.0.0,!=3.0.1,<3.1.0,>=2.0.0 in /home/danja/.pyenv/versions/3.8.6/envs/lewagon/envs/MusicWithEmotions/lib/python3.8/site-packages (from ipython>=5.0.0->ipykernel>=5.1.2->pydeck>=0.1.dev5->streamlit) (3.0.18)\n",
      "Requirement already satisfied: pexpect>4.3 in /home/danja/.pyenv/versions/3.8.6/envs/lewagon/envs/MusicWithEmotions/lib/python3.8/site-packages (from ipython>=5.0.0->ipykernel>=5.1.2->pydeck>=0.1.dev5->streamlit) (4.8.0)\n",
      "Requirement already satisfied: nbformat>=4.2.0 in /home/danja/.pyenv/versions/3.8.6/envs/lewagon/envs/MusicWithEmotions/lib/python3.8/site-packages (from ipywidgets>=7.0.0->pydeck>=0.1.dev5->streamlit) (5.1.3)\n",
      "Requirement already satisfied: widgetsnbextension~=3.5.0 in /home/danja/.pyenv/versions/3.8.6/envs/lewagon/envs/MusicWithEmotions/lib/python3.8/site-packages (from ipywidgets>=7.0.0->pydeck>=0.1.dev5->streamlit) (3.5.1)\n",
      "Requirement already satisfied: jupyterlab-widgets>=1.0.0 in /home/danja/.pyenv/versions/3.8.6/envs/lewagon/envs/MusicWithEmotions/lib/python3.8/site-packages (from ipywidgets>=7.0.0->pydeck>=0.1.dev5->streamlit) (1.0.0)\n",
      "Requirement already satisfied: parso<0.9.0,>=0.8.0 in /home/danja/.pyenv/versions/3.8.6/envs/lewagon/envs/MusicWithEmotions/lib/python3.8/site-packages (from jedi>=0.16->ipython>=5.0.0->ipykernel>=5.1.2->pydeck>=0.1.dev5->streamlit) (0.8.2)\n",
      "Requirement already satisfied: MarkupSafe>=2.0 in /home/danja/.pyenv/versions/3.8.6/envs/lewagon/envs/MusicWithEmotions/lib/python3.8/site-packages (from jinja2->altair>=3.2.0->streamlit) (2.0.1)\n",
      "Requirement already satisfied: jupyter-core in /home/danja/.pyenv/versions/3.8.6/envs/lewagon/envs/MusicWithEmotions/lib/python3.8/site-packages (from nbformat>=4.2.0->ipywidgets>=7.0.0->pydeck>=0.1.dev5->streamlit) (4.7.1)\n",
      "Requirement already satisfied: ipython-genutils in /home/danja/.pyenv/versions/3.8.6/envs/lewagon/envs/MusicWithEmotions/lib/python3.8/site-packages (from nbformat>=4.2.0->ipywidgets>=7.0.0->pydeck>=0.1.dev5->streamlit) (0.2.0)\n",
      "Requirement already satisfied: pyrsistent>=0.14.0 in /home/danja/.pyenv/versions/3.8.6/envs/lewagon/envs/MusicWithEmotions/lib/python3.8/site-packages (from jsonschema->altair>=3.2.0->streamlit) (0.17.3)\n",
      "Requirement already satisfied: attrs>=17.4.0 in /home/danja/.pyenv/versions/3.8.6/envs/lewagon/envs/MusicWithEmotions/lib/python3.8/site-packages (from jsonschema->altair>=3.2.0->streamlit) (21.2.0)\n",
      "Requirement already satisfied: ptyprocess>=0.5 in /home/danja/.pyenv/versions/3.8.6/envs/lewagon/envs/MusicWithEmotions/lib/python3.8/site-packages (from pexpect>4.3->ipython>=5.0.0->ipykernel>=5.1.2->pydeck>=0.1.dev5->streamlit) (0.7.0)\n",
      "Requirement already satisfied: wcwidth in /home/danja/.pyenv/versions/3.8.6/envs/lewagon/envs/MusicWithEmotions/lib/python3.8/site-packages (from prompt-toolkit!=3.0.0,!=3.0.1,<3.1.0,>=2.0.0->ipython>=5.0.0->ipykernel>=5.1.2->pydeck>=0.1.dev5->streamlit) (0.2.5)\n",
      "Requirement already satisfied: notebook>=4.4.1 in /home/danja/.pyenv/versions/3.8.6/envs/lewagon/envs/MusicWithEmotions/lib/python3.8/site-packages (from widgetsnbextension~=3.5.0->ipywidgets>=7.0.0->pydeck>=0.1.dev5->streamlit) (6.4.0)\n",
      "Requirement already satisfied: argon2-cffi in /home/danja/.pyenv/versions/3.8.6/envs/lewagon/envs/MusicWithEmotions/lib/python3.8/site-packages (from notebook>=4.4.1->widgetsnbextension~=3.5.0->ipywidgets>=7.0.0->pydeck>=0.1.dev5->streamlit) (20.1.0)\n",
      "Requirement already satisfied: pyzmq>=17 in /home/danja/.pyenv/versions/3.8.6/envs/lewagon/envs/MusicWithEmotions/lib/python3.8/site-packages (from notebook>=4.4.1->widgetsnbextension~=3.5.0->ipywidgets>=7.0.0->pydeck>=0.1.dev5->streamlit) (22.1.0)\n",
      "Requirement already satisfied: nbconvert in /home/danja/.pyenv/versions/3.8.6/envs/lewagon/envs/MusicWithEmotions/lib/python3.8/site-packages (from notebook>=4.4.1->widgetsnbextension~=3.5.0->ipywidgets>=7.0.0->pydeck>=0.1.dev5->streamlit) (6.0.7)\n",
      "Requirement already satisfied: prometheus-client in /home/danja/.pyenv/versions/3.8.6/envs/lewagon/envs/MusicWithEmotions/lib/python3.8/site-packages (from notebook>=4.4.1->widgetsnbextension~=3.5.0->ipywidgets>=7.0.0->pydeck>=0.1.dev5->streamlit) (0.10.1)\n",
      "Requirement already satisfied: terminado>=0.8.3 in /home/danja/.pyenv/versions/3.8.6/envs/lewagon/envs/MusicWithEmotions/lib/python3.8/site-packages (from notebook>=4.4.1->widgetsnbextension~=3.5.0->ipywidgets>=7.0.0->pydeck>=0.1.dev5->streamlit) (0.10.0)\n",
      "Requirement already satisfied: Send2Trash>=1.5.0 in /home/danja/.pyenv/versions/3.8.6/envs/lewagon/envs/MusicWithEmotions/lib/python3.8/site-packages (from notebook>=4.4.1->widgetsnbextension~=3.5.0->ipywidgets>=7.0.0->pydeck>=0.1.dev5->streamlit) (1.5.0)\n",
      "Requirement already satisfied: cffi>=1.0.0 in /home/danja/.pyenv/versions/3.8.6/envs/lewagon/envs/MusicWithEmotions/lib/python3.8/site-packages (from argon2-cffi->notebook>=4.4.1->widgetsnbextension~=3.5.0->ipywidgets>=7.0.0->pydeck>=0.1.dev5->streamlit) (1.14.5)\n",
      "Requirement already satisfied: pycparser in /home/danja/.pyenv/versions/3.8.6/envs/lewagon/envs/MusicWithEmotions/lib/python3.8/site-packages (from cffi>=1.0.0->argon2-cffi->notebook>=4.4.1->widgetsnbextension~=3.5.0->ipywidgets>=7.0.0->pydeck>=0.1.dev5->streamlit) (2.20)\n",
      "Requirement already satisfied: gitdb<5,>=4.0.1 in /home/danja/.pyenv/versions/3.8.6/envs/lewagon/envs/MusicWithEmotions/lib/python3.8/site-packages (from gitpython->streamlit) (4.0.7)\n",
      "Requirement already satisfied: smmap<5,>=3.0.1 in /home/danja/.pyenv/versions/3.8.6/envs/lewagon/envs/MusicWithEmotions/lib/python3.8/site-packages (from gitdb<5,>=4.0.1->gitpython->streamlit) (4.0.0)\n",
      "Requirement already satisfied: pandocfilters>=1.4.1 in /home/danja/.pyenv/versions/3.8.6/envs/lewagon/envs/MusicWithEmotions/lib/python3.8/site-packages (from nbconvert->notebook>=4.4.1->widgetsnbextension~=3.5.0->ipywidgets>=7.0.0->pydeck>=0.1.dev5->streamlit) (1.4.3)\n",
      "Requirement already satisfied: testpath in /home/danja/.pyenv/versions/3.8.6/envs/lewagon/envs/MusicWithEmotions/lib/python3.8/site-packages (from nbconvert->notebook>=4.4.1->widgetsnbextension~=3.5.0->ipywidgets>=7.0.0->pydeck>=0.1.dev5->streamlit) (0.5.0)\n",
      "Requirement already satisfied: defusedxml in /home/danja/.pyenv/versions/3.8.6/envs/lewagon/envs/MusicWithEmotions/lib/python3.8/site-packages (from nbconvert->notebook>=4.4.1->widgetsnbextension~=3.5.0->ipywidgets>=7.0.0->pydeck>=0.1.dev5->streamlit) (0.7.1)\n",
      "Requirement already satisfied: mistune<2,>=0.8.1 in /home/danja/.pyenv/versions/3.8.6/envs/lewagon/envs/MusicWithEmotions/lib/python3.8/site-packages (from nbconvert->notebook>=4.4.1->widgetsnbextension~=3.5.0->ipywidgets>=7.0.0->pydeck>=0.1.dev5->streamlit) (0.8.4)\n",
      "Requirement already satisfied: nbclient<0.6.0,>=0.5.0 in /home/danja/.pyenv/versions/3.8.6/envs/lewagon/envs/MusicWithEmotions/lib/python3.8/site-packages (from nbconvert->notebook>=4.4.1->widgetsnbextension~=3.5.0->ipywidgets>=7.0.0->pydeck>=0.1.dev5->streamlit) (0.5.3)\n",
      "Requirement already satisfied: jupyterlab-pygments in /home/danja/.pyenv/versions/3.8.6/envs/lewagon/envs/MusicWithEmotions/lib/python3.8/site-packages (from nbconvert->notebook>=4.4.1->widgetsnbextension~=3.5.0->ipywidgets>=7.0.0->pydeck>=0.1.dev5->streamlit) (0.1.2)\n",
      "Requirement already satisfied: bleach in /home/danja/.pyenv/versions/3.8.6/envs/lewagon/envs/MusicWithEmotions/lib/python3.8/site-packages (from nbconvert->notebook>=4.4.1->widgetsnbextension~=3.5.0->ipywidgets>=7.0.0->pydeck>=0.1.dev5->streamlit) (3.3.0)\n",
      "Requirement already satisfied: nest-asyncio in /home/danja/.pyenv/versions/3.8.6/envs/lewagon/envs/MusicWithEmotions/lib/python3.8/site-packages (from nbclient<0.6.0,>=0.5.0->nbconvert->notebook>=4.4.1->widgetsnbextension~=3.5.0->ipywidgets>=7.0.0->pydeck>=0.1.dev5->streamlit) (1.5.1)\n",
      "Requirement already satisfied: async-generator in /home/danja/.pyenv/versions/3.8.6/envs/lewagon/envs/MusicWithEmotions/lib/python3.8/site-packages (from nbclient<0.6.0,>=0.5.0->nbconvert->notebook>=4.4.1->widgetsnbextension~=3.5.0->ipywidgets>=7.0.0->pydeck>=0.1.dev5->streamlit) (1.10)\n",
      "Requirement already satisfied: webencodings in /home/danja/.pyenv/versions/3.8.6/envs/lewagon/envs/MusicWithEmotions/lib/python3.8/site-packages (from bleach->nbconvert->notebook>=4.4.1->widgetsnbextension~=3.5.0->ipywidgets>=7.0.0->pydeck>=0.1.dev5->streamlit) (0.5.1)\n",
      "Requirement already satisfied: pyparsing>=2.0.2 in /home/danja/.pyenv/versions/3.8.6/envs/lewagon/envs/MusicWithEmotions/lib/python3.8/site-packages (from packaging->streamlit) (2.4.7)\n",
      "Requirement already satisfied: urllib3<1.27,>=1.21.1 in /home/danja/.pyenv/versions/3.8.6/envs/lewagon/envs/MusicWithEmotions/lib/python3.8/site-packages (from requests->streamlit) (1.26.5)\n",
      "Requirement already satisfied: chardet<5,>=3.0.2 in /home/danja/.pyenv/versions/3.8.6/envs/lewagon/envs/MusicWithEmotions/lib/python3.8/site-packages (from requests->streamlit) (4.0.0)\n",
      "Requirement already satisfied: certifi>=2017.4.17 in /home/danja/.pyenv/versions/3.8.6/envs/lewagon/envs/MusicWithEmotions/lib/python3.8/site-packages (from requests->streamlit) (2021.5.30)\n",
      "Requirement already satisfied: idna<3,>=2.5 in /home/danja/.pyenv/versions/3.8.6/envs/lewagon/envs/MusicWithEmotions/lib/python3.8/site-packages (from requests->streamlit) (2.10)\n",
      "Note: you may need to restart the kernel to use updated packages.\n"
     ]
    }
   ],
   "source": [
    "pip install streamlit\n"
   ]
  },
  {
   "cell_type": "code",
   "execution_count": 2,
   "id": "25cfd38e-d82d-49fa-8742-fb1c7946c59e",
   "metadata": {},
   "outputs": [],
   "source": [
    "import streamlit as st\n",
    "\n",
    "from PIL import Image\n",
    "import numpy as np\n",
    "import pandas as pd\n",
    "from numpy import random"
   ]
  },
  {
   "cell_type": "code",
   "execution_count": 3,
   "id": "8f74f58c-53c8-42f7-9f52-b340ad80b964",
   "metadata": {},
   "outputs": [],
   "source": [
    "# dataframe that stores potential emotions\n",
    "emotions_df = pd.DataFrame({\n",
    "          \"emotion\": [\"happy\", \"sad\", \"scared\", \"angry\", \"neutral\", \"surprised\", \"disgusted\"]\n",
    "        })\n"
   ]
  },
  {
   "cell_type": "code",
   "execution_count": 4,
   "id": "11b48b65-327b-4e26-bccb-a9abdcb8d188",
   "metadata": {},
   "outputs": [
    {
     "name": "stderr",
     "output_type": "stream",
     "text": [
      "2021-05-31 21:20:29.876 WARNING root: \n",
      "  \u001b[33m\u001b[1mWarning:\u001b[0m to view this Streamlit app on a browser, run it with the following\n",
      "  command:\n",
      "\n",
      "    streamlit run /home/danja/.pyenv/versions/lewagon/envs/MusicWithEmotions/lib/python3.8/site-packages/ipykernel_launcher.py [ARGUMENTS]\n"
     ]
    },
    {
     "data": {
      "text/plain": [
       "DeltaGenerator(_root_container=0, _provided_cursor=None, _parent=None, _block_type=None, _form_data=None)"
      ]
     },
     "execution_count": 4,
     "metadata": {},
     "output_type": "execute_result"
    }
   ],
   "source": [
    "st.markdown(\"\"\"# Lets create some music\"\"\")"
   ]
  },
  {
   "cell_type": "code",
   "execution_count": 5,
   "id": "7c990d77-43f9-457b-b4ee-feed705cd500",
   "metadata": {},
   "outputs": [
    {
     "data": {
      "text/plain": [
       "DeltaGenerator(_root_container=0, _provided_cursor=None, _parent=None, _block_type=None, _form_data=None)"
      ]
     },
     "execution_count": 5,
     "metadata": {},
     "output_type": "execute_result"
    }
   ],
   "source": [
    "# take a foto so we can see how you feel\n",
    "\n",
    "st.markdown(\"\"\"## take a foto\"\"\")"
   ]
  },
  {
   "cell_type": "code",
   "execution_count": 6,
   "id": "fcd3c07a-a643-44c2-9e8e-57aa5c81051e",
   "metadata": {},
   "outputs": [
    {
     "data": {
      "text/plain": [
       "DeltaGenerator(_root_container=0, _provided_cursor=None, _parent=None, _block_type=None, _form_data=None)"
      ]
     },
     "execution_count": 6,
     "metadata": {},
     "output_type": "execute_result"
    }
   ],
   "source": [
    "# upload image to read your emotional state \n",
    "\n",
    "st.markdown(\"\"\"## upload a foto\"\"\")"
   ]
  },
  {
   "cell_type": "code",
   "execution_count": 11,
   "id": "b999b81d-0e2c-42f1-906c-4e16e601610d",
   "metadata": {},
   "outputs": [],
   "source": [
    "uploaded_file = st.file_uploader(\"Choose an image...\", type=\"jpg\")\n",
    "\n",
    "if uploaded_file is not None:\n",
    "    image = Image.open(uploaded_file)\n",
    "    st.image(image, caption='Your Image.', use_column_width=True)\n",
    "    st.write(\"Recognizing emotion...\")\n",
    "\n",
    "    # fake algorithm\n",
    "    random_number = random.randint(0, 7)\n",
    "    your_emotion = emotions_df.iloc[random_number]\n",
    "    #your_emotion = predict(uploaded_file)\n",
    "\n",
    "    st.write(f'i see you feel {your_emotion}')"
   ]
  },
  {
   "cell_type": "code",
   "execution_count": 12,
   "id": "4c810248-2d13-4a27-8dd7-5e5db0cde7ce",
   "metadata": {},
   "outputs": [
    {
     "ename": "NameError",
     "evalue": "name 'your_emotion' is not defined",
     "output_type": "error",
     "traceback": [
      "\u001b[0;31m---------------------------------------------------------------------------\u001b[0m",
      "\u001b[0;31mNameError\u001b[0m                                 Traceback (most recent call last)",
      "\u001b[0;32m<ipython-input-12-3b5845fda574>\u001b[0m in \u001b[0;36m<module>\u001b[0;34m\u001b[0m\n\u001b[0;32m----> 1\u001b[0;31m \u001b[0myour_emotion\u001b[0m\u001b[0;34m\u001b[0m\u001b[0;34m\u001b[0m\u001b[0m\n\u001b[0m",
      "\u001b[0;31mNameError\u001b[0m: name 'your_emotion' is not defined"
     ]
    }
   ],
   "source": [
    "your_emotion"
   ]
  },
  {
   "cell_type": "code",
   "execution_count": null,
   "id": "88911989-fdf1-4036-9d3b-e156fbf43cdb",
   "metadata": {},
   "outputs": [],
   "source": [
    "# select your emotional state without foto\n",
    "\n",
    "st.markdown(\"\"\"## select your emotion\"\"\")"
   ]
  },
  {
   "cell_type": "code",
   "execution_count": null,
   "id": "376f6105-a4d2-4b97-b876-b27420e54dc2",
   "metadata": {},
   "outputs": [],
   "source": [
    "your_emotion = st.selectbox(\n",
    "     'How do you feel right now?',\n",
    "     (\"happy\", \"sad\", \"scared\", \"angry\", \"neutral\", \"surprised\", \"disgusted\")\n",
    "        )\n",
    "\n",
    "st.write(f'i see you feel {your_emotion}')\n"
   ]
  },
  {
   "cell_type": "code",
   "execution_count": null,
   "id": "7a014c4c-4b91-4c42-9603-c4a431c5f51c",
   "metadata": {},
   "outputs": [],
   "source": []
  }
 ],
 "metadata": {
  "kernelspec": {
   "display_name": "Python 3",
   "language": "python",
   "name": "python3"
  },
  "language_info": {
   "codemirror_mode": {
    "name": "ipython",
    "version": 3
   },
   "file_extension": ".py",
   "mimetype": "text/x-python",
   "name": "python",
   "nbconvert_exporter": "python",
   "pygments_lexer": "ipython3",
   "version": "3.8.6"
  }
 },
 "nbformat": 4,
 "nbformat_minor": 5
}
