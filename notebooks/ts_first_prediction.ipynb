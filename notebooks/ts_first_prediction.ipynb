{
  "nbformat": 4,
  "nbformat_minor": 0,
  "metadata": {
    "colab": {
      "name": "first_prediction.ipynb",
      "provenance": [],
      "collapsed_sections": []
    },
    "kernelspec": {
      "display_name": "Python 3",
      "name": "python3"
    },
    "language_info": {
      "name": "python"
    },
    "accelerator": "GPU"
  },
  "cells": [
    {
      "cell_type": "code",
      "metadata": {
        "colab": {
          "base_uri": "https://localhost:8080/"
        },
        "id": "uKErk_96K5yP",
        "outputId": "a1f58230-4968-418a-95e7-dcdcef64fee8"
      },
      "source": [
        "!pip install opencv-python==4.5.2.52"
      ],
      "execution_count": 97,
      "outputs": [
        {
          "output_type": "stream",
          "text": [
            "Requirement already satisfied: opencv-python==4.5.2.52 in /usr/local/lib/python3.7/dist-packages (4.5.2.52)\n",
            "Requirement already satisfied: numpy>=1.14.5 in /usr/local/lib/python3.7/dist-packages (from opencv-python==4.5.2.52) (1.19.5)\n"
          ],
          "name": "stdout"
        }
      ]
    },
    {
      "cell_type": "code",
      "metadata": {
        "id": "QpKs3iy5CtWj"
      },
      "source": [
        "import numpy as np\n",
        "import pandas as pd\n",
        "import matplotlib.pyplot as plt\n",
        "from tensorflow.keras import Sequential, layers\n",
        "from tensorflow.keras import optimizers\n",
        "from tensorflow.keras.callbacks import EarlyStopping\n",
        "from tensorflow.keras.layers.experimental.preprocessing import Rescaling\n",
        "from tensorflow import expand_dims\n",
        "from tensorflow.keras.utils import to_categorical\n",
        "from tensorflow.keras.optimizers.schedules import ExponentialDecay\n",
        "from tensorflow.keras.layers import Dense, Dropout, Flatten\n",
        "from tensorflow.keras.applications.resnet import preprocess_input\n",
        "\n"
      ],
      "execution_count": 98,
      "outputs": []
    },
    {
      "cell_type": "code",
      "metadata": {
        "id": "kV5C8UJUCBxB"
      },
      "source": [
        "\n",
        "!pip install -U -q PyDrive\n",
        "  \n",
        "from pydrive.auth import GoogleAuth\n",
        "from pydrive.drive import GoogleDrive\n",
        "from google.colab import auth\n",
        "from oauth2client.client import GoogleCredentials\n",
        "  \n",
        "  \n",
        "# Authenticate and create the PyDrive client.\n",
        "auth.authenticate_user()\n",
        "gauth = GoogleAuth()\n",
        "gauth.credentials = GoogleCredentials.get_application_default()\n",
        "drive = GoogleDrive(gauth)"
      ],
      "execution_count": 99,
      "outputs": []
    },
    {
      "cell_type": "code",
      "metadata": {
        "id": "bZPPAYrCbfC6"
      },
      "source": [
        "# link = 'https://drive.google.com/file/d/1-huYEgNdTg-t4yUNeeyfVnYLnVSc44eA/view?usp=sharing'\n",
        "  \n",
        "# import pandas as pd\n",
        "  \n",
        "# # to get the id part of the file\n",
        "# id = link.split(\"/\")[-2]\n",
        "  \n",
        "# downloaded = drive.CreateFile({'id':id}) \n",
        "# downloaded.GetContentFile('icml_face_data.csv')  \n",
        "  \n",
        "# data = pd.read_csv('icml_face_data.csv')\n",
        "# print(data)"
      ],
      "execution_count": 135,
      "outputs": []
    },
    {
      "cell_type": "code",
      "metadata": {
        "id": "d-YDecpJcE4z"
      },
      "source": [
        "# data.drop_duplicates(inplace=True)"
      ],
      "execution_count": 136,
      "outputs": []
    },
    {
      "cell_type": "code",
      "metadata": {
        "id": "jxqbnvk_L_vV"
      },
      "source": [
        "# data.reset_index(drop = True, inplace = True)"
      ],
      "execution_count": null,
      "outputs": []
    },
    {
      "cell_type": "code",
      "metadata": {
        "id": "WeHRI_NGfULv"
      },
      "source": [
        "# data.columns=['emotion', 'usage', 'pixels']"
      ],
      "execution_count": null,
      "outputs": []
    },
    {
      "cell_type": "code",
      "metadata": {
        "id": "WYcm9PLysseC"
      },
      "source": [
        "# df = data.copy()"
      ],
      "execution_count": null,
      "outputs": []
    },
    {
      "cell_type": "code",
      "metadata": {
        "id": "YabVPELDRAJd"
      },
      "source": [
        "# df = df[df.emotion != 1]\n",
        "df.reset_index(drop = True, inplace = True)"
      ],
      "execution_count": null,
      "outputs": []
    },
    {
      "cell_type": "code",
      "metadata": {
        "colab": {
          "base_uri": "https://localhost:8080/"
        },
        "id": "TNGm20CgSAgR",
        "outputId": "c8a9c3cc-0b64-4ddf-9ea4-e7cdf7bd658f"
      },
      "source": [
        "# df.emotion.value_counts()/len(df.emotion)"
      ],
      "execution_count": null,
      "outputs": [
        {
          "output_type": "execute_result",
          "data": {
            "text/plain": [
              "3    0.259323\n",
              "6    0.178707\n",
              "4    0.174960\n",
              "2    0.144166\n",
              "0    0.140507\n",
              "5    0.102336\n",
              "Name: emotion, dtype: float64"
            ]
          },
          "metadata": {
            "tags": []
          },
          "execution_count": 77
        }
      ]
    },
    {
      "cell_type": "code",
      "metadata": {
        "colab": {
          "base_uri": "https://localhost:8080/"
        },
        "id": "nV2S8xEHis0F",
        "outputId": "d38c45ca-5d1a-4c79-9e97-4a6c2ef4e76f"
      },
      "source": [
        "# for i in range(len(df.pixels)):\n",
        "#   test_str = df.pixels[i]\n",
        "#   test_list = test_str.split(' ')\n",
        "#   df.pixels[i] = np.asarray(test_list).reshape(48,48).astype(int)"
      ],
      "execution_count": null,
      "outputs": [
        {
          "output_type": "stream",
          "text": [
            "/usr/local/lib/python3.7/dist-packages/ipykernel_launcher.py:4: SettingWithCopyWarning: \n",
            "A value is trying to be set on a copy of a slice from a DataFrame\n",
            "\n",
            "See the caveats in the documentation: https://pandas.pydata.org/pandas-docs/stable/user_guide/indexing.html#returning-a-view-versus-a-copy\n",
            "  after removing the cwd from sys.path.\n"
          ],
          "name": "stderr"
        }
      ]
    },
    {
      "cell_type": "code",
      "metadata": {
        "colab": {
          "base_uri": "https://localhost:8080/"
        },
        "id": "_JvXurzmq-qD",
        "outputId": "0b9cc4da-89da-48e2-da59-94e4d4c149f8"
      },
      "source": [
        "# plt.imshow(df.pixels[0], cmap='gray')"
      ],
      "execution_count": null,
      "outputs": [
        {
          "output_type": "execute_result",
          "data": {
            "text/plain": [
              "<matplotlib.image.AxesImage at 0x7fb05b6b0390>"
            ]
          },
          "metadata": {
            "tags": []
          },
          "execution_count": 79
        },
        {
          "output_type": "display_data",
          "data": {
            "image/png": "[encoded data removed]",
            "text/plain": [
              "<Figure size 432x288 with 1 Axes>"
            ]
          },
          "metadata": {
            "tags": [],
            "needs_background": "light"
          }
        }
      ]
    },
    {
      "cell_type": "code",
      "metadata": {
        "id": "w6aOnqIxfdmy",
        "colab": {
          "base_uri": "https://localhost:8080/"
        },
        "outputId": "c1afd90f-fdae-4a84-a375-d51ea094d0a3"
      },
      "source": [
        "# df_train = df[df['usage']=='Training']\n",
        "# df_train.reset_index(drop = True, inplace = True)\n",
        "# len(df_train)"
      ],
      "execution_count": null,
      "outputs": [
        {
          "output_type": "execute_result",
          "data": {
            "text/plain": [
              "27134"
            ]
          },
          "metadata": {
            "tags": []
          },
          "execution_count": 80
        }
      ]
    },
    {
      "cell_type": "code",
      "metadata": {
        "id": "PMJx0BVsf_FL"
      },
      "source": [
        "# df_test = df[df['usage']=='PublicTest']"
      ],
      "execution_count": null,
      "outputs": []
    },
    {
      "cell_type": "code",
      "metadata": {
        "id": "Ixr51jUyguRQ"
      },
      "source": [
        "# df_test = df_test.append(df[df['usage']=='PrivateTest'])\n",
        "# df_test.reset_index(drop = True, inplace = True)"
      ],
      "execution_count": null,
      "outputs": []
    },
    {
      "cell_type": "code",
      "metadata": {
        "colab": {
          "base_uri": "https://localhost:8080/"
        },
        "id": "_oCF3T-siFuZ",
        "outputId": "3f3d2a80-fe09-4c7a-def4-eba2097f61ab"
      },
      "source": [
        "# df_train.drop(columns = 'usage', inplace = True)"
      ],
      "execution_count": null,
      "outputs": [
        {
          "output_type": "stream",
          "text": [
            "/usr/local/lib/python3.7/dist-packages/pandas/core/frame.py:4174: SettingWithCopyWarning: \n",
            "A value is trying to be set on a copy of a slice from a DataFrame\n",
            "\n",
            "See the caveats in the documentation: https://pandas.pydata.org/pandas-docs/stable/user_guide/indexing.html#returning-a-view-versus-a-copy\n",
            "  errors=errors,\n"
          ],
          "name": "stderr"
        }
      ]
    },
    {
      "cell_type": "code",
      "metadata": {
        "id": "dY1UqzkMiWMX"
      },
      "source": [
        "# df_test.drop(columns = 'usage', inplace = True)"
      ],
      "execution_count": null,
      "outputs": []
    },
    {
      "cell_type": "code",
      "metadata": {
        "id": "BuVy23h0idTo"
      },
      "source": [
        "# X_train = df_train.pixels\n",
        "# y_train = df_train.emotion\n",
        "# X_test = df_test.pixels\n",
        "# y_test = df_test.emotion"
      ],
      "execution_count": null,
      "outputs": []
    },
    {
      "cell_type": "code",
      "metadata": {
        "colab": {
          "base_uri": "https://localhost:8080/"
        },
        "id": "9WGJFU8t5N0i",
        "outputId": "461f0dff-a6a5-4fae-d54a-aa7b926e737c"
      },
      "source": [
        "# X_train = [X_train[i] for i in range(len(X_train))] # create a list with all our records\n",
        "# X_train = np.dstack(X_train)\n",
        "# print(X_train.shape)\n",
        "# X_train = np.rollaxis(X_train, -1)\n",
        "# print(X_train.shape)"
      ],
      "execution_count": null,
      "outputs": [
        {
          "output_type": "stream",
          "text": [
            "(48, 48, 27134)\n",
            "(27134, 48, 48)\n"
          ],
          "name": "stdout"
        }
      ]
    },
    {
      "cell_type": "code",
      "metadata": {
        "colab": {
          "base_uri": "https://localhost:8080/"
        },
        "id": "iYDSzkvD5ZRF",
        "outputId": "8da1a431-ba8c-4bd9-d04a-6fd337bb2de7"
      },
      "source": [
        "# X_test = [X_test[i] for i in range(len(X_test))] # create a list with all our records\n",
        "# X_test = np.dstack(X_test)\n",
        "# print(X_test.shape)\n",
        "# X_test = np.rollaxis(X_test, -1)\n",
        "# print(X_test.shape)"
      ],
      "execution_count": null,
      "outputs": [
        {
          "output_type": "stream",
          "text": [
            "(48, 48, 7028)\n",
            "(7028, 48, 48)\n"
          ],
          "name": "stdout"
        }
      ]
    },
    {
      "cell_type": "code",
      "metadata": {
        "colab": {
          "base_uri": "https://localhost:8080/"
        },
        "id": "LzWHoj326vRs",
        "outputId": "afa3cc1f-7c81-4aef-f113-b37a17cf4776"
      },
      "source": [
        "# df_train.emotion.value_counts()"
      ],
      "execution_count": null,
      "outputs": [
        {
          "output_type": "execute_result",
          "data": {
            "text/plain": [
              "3    7087\n",
              "6    4874\n",
              "4    4733\n",
              "2    3909\n",
              "0    3849\n",
              "5    2682\n",
              "Name: emotion, dtype: int64"
            ]
          },
          "metadata": {
            "tags": []
          },
          "execution_count": 88
        }
      ]
    },
    {
      "cell_type": "code",
      "metadata": {
        "id": "Uaa1vLHL9IgI"
      },
      "source": [
        "# y_train = y_train - 1\n",
        "# y_test = y_test - 1"
      ],
      "execution_count": null,
      "outputs": []
    },
    {
      "cell_type": "code",
      "metadata": {
        "id": "b8SeXJ-p5444"
      },
      "source": [
        "# y_train = to_categorical(y_train, num_classes=6)\n",
        "# y_test = to_categorical(y_test, num_classes=6)"
      ],
      "execution_count": null,
      "outputs": []
    },
    {
      "cell_type": "code",
      "metadata": {
        "id": "NsByar3wAvFk"
      },
      "source": [
        "# X_train = np.expand_dims(X_train, axis = -1)"
      ],
      "execution_count": null,
      "outputs": []
    },
    {
      "cell_type": "code",
      "metadata": {
        "id": "oEgWPIrJJpKk"
      },
      "source": [
        "# X_test = np.expand_dims(X_test, axis = -1)"
      ],
      "execution_count": null,
      "outputs": []
    },
    {
      "cell_type": "code",
      "metadata": {
        "id": "qmuLxtgV0t7N"
      },
      "source": [
        "# X_train = X_train / 255.\n",
        "# X_test = X_test / 255."
      ],
      "execution_count": null,
      "outputs": []
    },
    {
      "cell_type": "code",
      "metadata": {
        "id": "GyeVe6zvtdVZ"
      },
      "source": [
        "# model = Sequential()\n",
        "# #model.add(Rescaling(1./255, input_shape=(48,48,1)))\n",
        "\n",
        "# #reg_l1 = regularizers.L1(0.01)\n",
        "# #reg_l2 = regularizers.L2(0.01)\n",
        "# #reg_l1_l2 = regularizers.l1_l2(l1=0.005, l2=0.0005)\n",
        "\n",
        "# model.add(layers.Conv2D(32, kernel_size=(3,3), padding='same',activation='relu', input_shape=(48,48,1)))\n",
        "# model.add(layers.Conv2D(64, kernel_size=(3,3), padding='same',activation='relu'))\n",
        "# model.add(layers.MaxPooling2D(3))\n",
        "\n",
        "# model.add(layers.Conv2D(128, kernel_size=(3,3), padding='same',activation=\"relu\"))\n",
        "# model.add(layers.MaxPooling2D(3))\n",
        "# model.add(Dropout(0.2))\n",
        "\n",
        "# model.add(layers.Conv2D(128, kernel_size=(3,3), padding='same',activation=\"relu\"))\n",
        "# model.add(layers.MaxPooling2D(2))\n",
        "# model.add(Dropout(0.3))\n",
        "\n",
        "# model.add(layers.Flatten())\n",
        "# model.add(layers.Dense(1024, activation='relu'))\n",
        "# model.add(Dropout(0.5))\n",
        "\n",
        "# model.add(layers.Dense(6, activation='softmax'))\n",
        "    \n",
        "# opt = optimizers.Adam(learning_rate=1e-4, decay=1e-6)\n",
        "# model.compile(loss='categorical_crossentropy',\n",
        "#                   optimizer=opt,\n",
        "#                   metrics=['accuracy'])"
      ],
      "execution_count": null,
      "outputs": []
    },
    {
      "cell_type": "code",
      "metadata": {
        "colab": {
          "base_uri": "https://localhost:8080/"
        },
        "id": "-4YEbTVwxPKP",
        "outputId": "160baf59-472e-4785-8e23-01c885cab410"
      },
      "source": [
        "es = EarlyStopping(patience=20, verbose=1, restore_best_weights=True)\n",
        "#monitor='val_accuracy', mode='max', \n",
        "history = model.fit(X_train, y_train,\n",
        "         batch_size=48, \n",
        "         epochs=1, \n",
        "         validation_split=0.2,\n",
        "         callbacks=[es])"
      ],
      "execution_count": null,
      "outputs": [
        {
          "output_type": "stream",
          "text": [
            "453/453 [==============================] - 6s 11ms/step - loss: 1.5658 - accuracy: 0.3065 - val_loss: 1.5271 - val_accuracy: 0.3238\n"
          ],
          "name": "stdout"
        }
      ]
    },
    {
      "cell_type": "markdown",
      "metadata": {
        "id": "_f8EkIRZq4q2"
      },
      "source": [
        "import trained model"
      ]
    },
    {
      "cell_type": "code",
      "metadata": {
        "colab": {
          "base_uri": "https://localhost:8080/"
        },
        "id": "Mc75j1s_Zqkd",
        "outputId": "758843d9-960a-4ca0-d4e6-03776d946d2a"
      },
      "source": [
        "from google.colab import drive\n",
        "drive.mount('/content/drive')"
      ],
      "execution_count": 102,
      "outputs": [
        {
          "output_type": "stream",
          "text": [
            "Mounted at /content/drive\n"
          ],
          "name": "stdout"
        }
      ]
    },
    {
      "cell_type": "code",
      "metadata": {
        "id": "XbH2RWbyZLRH"
      },
      "source": [
        "import joblib\n",
        "import keras"
      ],
      "execution_count": 101,
      "outputs": []
    },
    {
      "cell_type": "code",
      "metadata": {
        "id": "t3OIS8nmYe8m"
      },
      "source": [
        "# local_model_name = 'model.joblib'\n",
        "# joblib.dump(model, local_model_name)\n",
        "# print(\"saved model.joblib locally\")\n",
        "\n",
        "# model.save('test_model')\n",
        "# print(\"saved model locally\")\n",
        "model2 = keras.models.load_model('/content/drive/MyDrive/MusicWIthEmotions/model_65')"
      ],
      "execution_count": 104,
      "outputs": []
    },
    {
      "cell_type": "code",
      "metadata": {
        "id": "wd7mZ8qmEPwX"
      },
      "source": [
        "# !pip install opencv-python==4.5.2.52\n",
        "import cv2\n",
        "\n",
        "img = cv2.imread('simopic2.jpg')  #  example of picture load\n",
        "\n",
        "def user_pic_preproc(img, bor=0):\n",
        "    '''convert user picture to grayscale, identify and extract the face and compress to 48 x 48 pixels'''\n",
        "    face_model = cv2.CascadeClassifier('haarcascade_frontalface_default.xml')\n",
        "    print(face_model)\n",
        "    gray = cv2.cvtColor(img, cv2.COLOR_BGR2GRAY)\n",
        "    print(gray.shape)\n",
        "    faces = face_model.detectMultiScale(gray, 1.2, 15)\n",
        "    print(faces)\n",
        "    \n",
        "    # set additional border to face detection for picture extraction \n",
        "    x, y, w, h = faces[0]\n",
        "    x2 = int(round((x - bor * w), 0))  # x \n",
        "    y2 = int(round((y - bor * h), 0))  # y\n",
        "    w2 = int(round((w * (1 + 2 * bor)), 0))  # width of extraction\n",
        "    h2 = int(round((h * (1 + 2 * bor)), 0))  # height of extraction\n",
        "    \n",
        "    img_face = gray[y2 : y2 + h2, x2 : x2 + w2]\n",
        "    img_resized = cv2.resize(img_face, (48, 48), interpolation = cv2.INTER_AREA)\n",
        "    img_expanded = np.expand_dims(img_resized, axis = [0, -1])\n",
        "    \n",
        "    return img_expanded"
      ],
      "execution_count": 105,
      "outputs": []
    },
    {
      "cell_type": "code",
      "metadata": {
        "colab": {
          "base_uri": "https://localhost:8080/"
        },
        "id": "YWb_Lq4yIObM",
        "outputId": "8d5c31d0-f1d3-4726-a467-3656289e1c09"
      },
      "source": [
        "img.shape\n",
        "img_preproc = user_pic_preproc(img)\n",
        "img_preproc.shape"
      ],
      "execution_count": 106,
      "outputs": [
        {
          "output_type": "stream",
          "text": [
            "<CascadeClassifier 0x7faf2c8862f0>\n",
            "(720, 1080)\n",
            "[[445 249 296 296]]\n"
          ],
          "name": "stdout"
        },
        {
          "output_type": "execute_result",
          "data": {
            "text/plain": [
              "(1, 48, 48, 1)"
            ]
          },
          "metadata": {
            "tags": []
          },
          "execution_count": 106
        }
      ]
    },
    {
      "cell_type": "code",
      "metadata": {
        "colab": {
          "base_uri": "https://localhost:8080/"
        },
        "id": "tH2EifGrMI_0",
        "outputId": "6cdc3378-4988-4fb8-9c71-8cdd1ef6f49c"
      },
      "source": [
        "res = model.predict(img_preproc)\n",
        "res"
      ],
      "execution_count": 111,
      "outputs": [
        {
          "output_type": "execute_result",
          "data": {
            "text/plain": [
              "array([[0.0000000e+00, 5.9315820e-33, 4.0164374e-09, 5.3986784e-36,\n",
              "        0.0000000e+00, 1.0000000e+00]], dtype=float32)"
            ]
          },
          "metadata": {
            "tags": []
          },
          "execution_count": 111
        }
      ]
    },
    {
      "cell_type": "code",
      "metadata": {
        "colab": {
          "base_uri": "https://localhost:8080/",
          "height": 285
        },
        "id": "CnVQjhRDb6yK",
        "outputId": "565f179f-1e09-4d7b-9901-7cb9f5617c64"
      },
      "source": [
        "np.squeeze(img_preproc, (0,-1)).shape\n",
        "plt.imshow(np.squeeze(img_preproc,(0,-1)), cmap='gray')"
      ],
      "execution_count": 117,
      "outputs": [
        {
          "output_type": "execute_result",
          "data": {
            "text/plain": [
              "<matplotlib.image.AxesImage at 0x7faf2ac55890>"
            ]
          },
          "metadata": {
            "tags": []
          },
          "execution_count": 117
        },
        {
          "output_type": "display_data",
          "data": {
            "image/png": "[encoded data removed]",
            "text/plain": [
              "<Figure size 432x288 with 1 Axes>"
            ]
          },
          "metadata": {
            "tags": [],
            "needs_background": "light"
          }
        }
      ]
    },
    {
      "cell_type": "code",
      "metadata": {
        "id": "vpRW7b_TdMh9"
      },
      "source": [
        "emotions_2 = {0:'Angry', 1:'Fear', 2:'Happy', 3:'Sad', 4:'Surprise', 5:'Neutral'}"
      ],
      "execution_count": 122,
      "outputs": []
    },
    {
      "cell_type": "code",
      "metadata": {
        "colab": {
          "base_uri": "https://localhost:8080/",
          "height": 35
        },
        "id": "THcTCTMelnW_",
        "outputId": "072bf33f-cc47-4f90-b47f-1d96c88e9609"
      },
      "source": [
        "# res.index(min(res))\n",
        "ind = np.argmax(res)\n",
        "predicted_emotion = emotions_2.get(ind)\n",
        "predicted_emotion"
      ],
      "execution_count": 134,
      "outputs": [
        {
          "output_type": "execute_result",
          "data": {
            "application/vnd.google.colaboratory.intrinsic+json": {
              "type": "string"
            },
            "text/plain": [
              "'Neutral'"
            ]
          },
          "metadata": {
            "tags": []
          },
          "execution_count": 134
        }
      ]
    },
    {
      "cell_type": "code",
      "metadata": {
        "colab": {
          "base_uri": "https://localhost:8080/"
        },
        "id": "zGEokzFpekUA",
        "outputId": "02008aa9-1cf0-40c5-8a03-3ed07c33bfec"
      },
      "source": [
        "img = cv2.imread('simopic.jpg')\n",
        "img_preproc = user_pic_preproc(img)\n",
        "res = model.predict(img_preproc)\n",
        "res"
      ],
      "execution_count": 118,
      "outputs": [
        {
          "output_type": "stream",
          "text": [
            "<CascadeClassifier 0x7faf2ac115b0>\n",
            "(720, 1080)\n",
            "[[402 286 311 311]]\n"
          ],
          "name": "stdout"
        },
        {
          "output_type": "execute_result",
          "data": {
            "text/plain": [
              "array([[0.0000000e+00, 1.8906477e-33, 3.0241957e-12, 1.6233535e-36,\n",
              "        0.0000000e+00, 1.0000000e+00]], dtype=float32)"
            ]
          },
          "metadata": {
            "tags": []
          },
          "execution_count": 118
        }
      ]
    },
    {
      "cell_type": "code",
      "metadata": {
        "colab": {
          "base_uri": "https://localhost:8080/"
        },
        "id": "FzYBQbyEfMy0",
        "outputId": "b1fe45f3-507a-4ef8-b382-096b1ea50561"
      },
      "source": [
        "img = cv2.imread('simopic4.jpg')\n",
        "img_preproc = user_pic_preproc(img)\n",
        "res = model.predict(img_preproc)\n",
        "res"
      ],
      "execution_count": 120,
      "outputs": [
        {
          "output_type": "stream",
          "text": [
            "<CascadeClassifier 0x7faf2ac31150>\n",
            "(720, 1080)\n",
            "[[422 148 342 342]]\n"
          ],
          "name": "stdout"
        },
        {
          "output_type": "execute_result",
          "data": {
            "text/plain": [
              "array([[0.0000000e+00, 2.8929649e-31, 1.1968434e-07, 5.8868325e-34,\n",
              "        0.0000000e+00, 9.9999988e-01]], dtype=float32)"
            ]
          },
          "metadata": {
            "tags": []
          },
          "execution_count": 120
        }
      ]
    }
  ]
}